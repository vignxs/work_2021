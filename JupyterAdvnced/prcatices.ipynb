{
 "cells": [
  {
   "cell_type": "code",
   "execution_count": 2,
   "id": "7c3558db",
   "metadata": {},
   "outputs": [],
   "source": [
    "import multiprocessing as mp  "
   ]
  },
  {
   "cell_type": "markdown",
   "id": "6afdbaca",
   "metadata": {},
   "source": [
    "# MultiProcessing"
   ]
  },
  {
   "cell_type": "code",
   "execution_count": 11,
   "id": "ea10de33",
   "metadata": {
    "scrolled": true
   },
   "outputs": [
    {
     "name": "stdout",
     "output_type": "stream",
     "text": [
      "Sleeping\n",
      "Done\n",
      "Sleeping\n",
      "Done\n",
      "Sleeping\n",
      "Done\n",
      "Sleeping\n",
      "Done\n",
      "Sleeping\n",
      "Done\n",
      "Sleeping\n",
      "Done\n",
      "Sleeping\n",
      "Done\n",
      "Sleeping\n",
      "Done\n",
      "Sleeping\n",
      "Done\n",
      "Sleeping\n",
      "Done\n",
      "Finished in 10.44 second(s)\n"
     ]
    }
   ],
   "source": [
    "import time\n",
    "import multiprocessing as mp  \n",
    "\n",
    "start = time.perf_counter()\n",
    "\n",
    "def do_so():\n",
    "    print(\"Sleeping\")\n",
    "    time.sleep(1)\n",
    "    print(\"Done\")\n",
    "\n",
    "processes =[]\n",
    "\n",
    "for _ in range(10):\n",
    "    p = mp.Process(target = do_so())\n",
    "    p.start()\n",
    "    processes.append(p)\n",
    "    \n",
    "for process in processes:\n",
    "    process.join()\n",
    "    \n",
    "p1.join()\n",
    "p2.join()\n",
    "\n",
    "\n",
    "finish = time.perf_counter()\n",
    "\n",
    "print(f\"Finished in {round(finish-start,2)} second(s)\")\n"
   ]
  },
  {
   "cell_type": "code",
   "execution_count": null,
   "id": "8c6aa7a7",
   "metadata": {},
   "outputs": [],
   "source": []
  }
 ],
 "metadata": {
  "kernelspec": {
   "display_name": "Python 3",
   "language": "python",
   "name": "python3"
  },
  "language_info": {
   "codemirror_mode": {
    "name": "ipython",
    "version": 3
   },
   "file_extension": ".py",
   "mimetype": "text/x-python",
   "name": "python",
   "nbconvert_exporter": "python",
   "pygments_lexer": "ipython3",
   "version": "3.6.9"
  }
 },
 "nbformat": 4,
 "nbformat_minor": 5
}
