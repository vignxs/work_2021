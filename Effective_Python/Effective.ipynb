{
 "cells": [
  {
   "cell_type": "code",
   "execution_count": 4,
   "id": "72ded5bd",
   "metadata": {},
   "outputs": [
    {
     "name": "stdout",
     "output_type": "stream",
     "text": [
      "sys.version_info(major=3, minor=6, micro=9, releaselevel='final', serial=0)\n",
      "3.6.9 (default, Dec  8 2021, 21:08:43) \n",
      "[GCC 8.4.0]\n"
     ]
    }
   ],
   "source": [
    "import sys\n",
    "print(sys.version_info)\n",
    "print(sys.version)"
   ]
  },
  {
   "cell_type": "code",
   "execution_count": 5,
   "id": "fe7f1fe3",
   "metadata": {},
   "outputs": [
    {
     "data": {
      "text/plain": [
       "'\\nThe Pylint tool (http://www.pylint.org/) is a popular static analyzer for Python\\nsource code. Pylint provides automated enforcement of the PEP 8 style guide and\\ndetects many other types of common errors in Python programs.\\n\\n'"
      ]
     },
     "execution_count": 5,
     "metadata": {},
     "output_type": "execute_result"
    }
   ],
   "source": [
    "\"\"\"\n",
    "The Pylint tool (http://www.pylint.org/) is a popular static analyzer for Python\n",
    "source code. Pylint provides automated enforcement of the PEP 8 style guide and\n",
    "detects many other types of common errors in Python programs.\n",
    "\n",
    "\"\"\""
   ]
  },
  {
   "cell_type": "code",
   "execution_count": 1,
   "id": "9bd0c0d2",
   "metadata": {},
   "outputs": [
    {
     "name": "stdout",
     "output_type": "stream",
     "text": [
      "<class 'bytes'>\n",
      "<class 'str'>\n"
     ]
    }
   ],
   "source": [
    "def to_str(bytes_or_str):\n",
    "    if isinstance(bytes_or_str, bytes):\n",
    "        value = bytes_or_str.decode(\"UTF-8\")\n",
    "    else:\n",
    "        value = bytes_or_str\n",
    "    return value # Instance of str\n",
    "\n",
    "def to_bytes(bytes_or_str):\n",
    "    if isinstance(bytes_or_str, str):\n",
    "        value = bytes_or_str.encode(\"UTF-8\")\n",
    "    else:\n",
    "        value = bytes_or_str\n",
    "    return value # Instance of bytes\n",
    "\n",
    "\n",
    "y = to_bytes('hello')\n",
    "x = to_str(y)\n",
    "\n",
    "\n",
    "print(type(y))\n",
    "print(type(x))"
   ]
  },
  {
   "cell_type": "code",
   "execution_count": 13,
   "id": "359ab156",
   "metadata": {},
   "outputs": [
    {
     "data": {
      "text/plain": [
       "['vignesh', 'magesh']"
      ]
     },
     "execution_count": 13,
     "metadata": {},
     "output_type": "execute_result"
    }
   ],
   "source": [
    "emp = [('vignesh', 15000), ('dhanush', 12000), ('magesh', 16000)]\n",
    "\n",
    "x = [i for i,j in emp if j > 12000]\n",
    "x"
   ]
  },
  {
   "cell_type": "code",
   "execution_count": 6,
   "id": "02ba18c8",
   "metadata": {},
   "outputs": [
    {
     "ename": "KeyboardInterrupt",
     "evalue": "",
     "output_type": "error",
     "traceback": [
      "\u001b[0;31m---------------------------------------------------------------------------\u001b[0m",
      "\u001b[0;31mKeyboardInterrupt\u001b[0m                         Traceback (most recent call last)",
      "\u001b[0;32m<ipython-input-6-16969c9d479f>\u001b[0m in \u001b[0;36m<module>\u001b[0;34m\u001b[0m\n\u001b[1;32m      1\u001b[0m \u001b[0;32mwhile\u001b[0m \u001b[0;32mTrue\u001b[0m\u001b[0;34m:\u001b[0m\u001b[0;34m\u001b[0m\u001b[0;34m\u001b[0m\u001b[0m\n\u001b[0;32m----> 2\u001b[0;31m     \u001b[0;32mcontinue\u001b[0m\u001b[0;34m\u001b[0m\u001b[0;34m\u001b[0m\u001b[0m\n\u001b[0m\u001b[1;32m      3\u001b[0m     \u001b[0mprinti\u001b[0m\u001b[0;34m(\u001b[0m\u001b[0;34m'Hi '\u001b[0m\u001b[0;34m)\u001b[0m\u001b[0;34m\u001b[0m\u001b[0;34m\u001b[0m\u001b[0m\n",
      "\u001b[0;31mKeyboardInterrupt\u001b[0m: "
     ]
    }
   ],
   "source": [
    "while True:\n",
    "    continue\n",
    "    printi('Hi ')"
   ]
  },
  {
   "cell_type": "code",
   "execution_count": null,
   "id": "0efa3d48",
   "metadata": {},
   "outputs": [],
   "source": [
    "for i in range(11):\n",
    "     \n",
    "    print((lambda x : x ** 2)(i))"
   ]
  },
  {
   "cell_type": "markdown",
   "id": "f6d7560a",
   "metadata": {
    "run_control": {
     "marked": true
    }
   },
   "source": [
    "### LIST Comprehension"
   ]
  },
  {
   "cell_type": "code",
   "execution_count": 17,
   "id": "af996953",
   "metadata": {},
   "outputs": [
    {
     "data": {
      "text/plain": [
       "[('vignesh', 15000), ('magesh', 16000)]"
      ]
     },
     "execution_count": 17,
     "metadata": {},
     "output_type": "execute_result"
    }
   ],
   "source": [
    "emp = {'vignesh' : 15000, 'dhanush' : 12000, 'magesh' : 16000}\n",
    "\n",
    "top_earners=[]\n",
    "for k,v in emp.items():\n",
    "    if v > 12000:\n",
    "        top_earners.append((k, v))\n",
    "top_earners\n",
    "\n",
    "\n"
   ]
  },
  {
   "cell_type": "code",
   "execution_count": 18,
   "id": "b34d7fbc",
   "metadata": {},
   "outputs": [
    {
     "data": {
      "text/plain": [
       "[('vignesh', 15000), ('magesh', 16000)]"
      ]
     },
     "execution_count": 18,
     "metadata": {},
     "output_type": "execute_result"
    }
   ],
   "source": [
    "emp = {'vignesh' : 15000, 'dhanush' : 12000, 'magesh' : 16000}\n",
    "\n",
    "top_earners = [(k, v) for k, v in emp.items() if v > 12000]\n",
    "top_earners"
   ]
  },
  {
   "cell_type": "code",
   "execution_count": 24,
   "id": "bff9e03a",
   "metadata": {},
   "outputs": [
    {
     "data": {
      "text/plain": [
       "[[],\n",
       " ['Call',\n",
       "  'Ishmael.',\n",
       "  'Some',\n",
       "  'years',\n",
       "  'never',\n",
       "  'mind',\n",
       "  'long',\n",
       "  'precisely',\n",
       "  'having'],\n",
       " ['little', 'money', 'purse,', 'nothing', 'particular', 'interest'],\n",
       " ['shore,', 'thought', 'would', 'sail', 'about', 'little', 'watery', 'part'],\n",
       " ['world.', 'have', 'driving', 'spleen,', 'regulating'],\n",
       " ['circulation.', 'Moby', 'Dick']]"
      ]
     },
     "execution_count": 24,
     "metadata": {},
     "output_type": "execute_result"
    }
   ],
   "source": [
    "text = '''\n",
    "Call me Ishmael. Some years ago - never mind how long precisely - having\n",
    "little or no money in my purse, and nothing particular to interest me\n",
    "on shore, I thought I would sail about a little and see the watery part\n",
    "of the world. It is a way I have of driving off the spleen, and regulating\n",
    "the circulation. - Moby Dick'''\n",
    "\n",
    "w = [[x for x in line.split() if len(x) > 3] for line in text.splitlines()]\n",
    "\n",
    "w"
   ]
  },
  {
   "cell_type": "code",
   "execution_count": 25,
   "id": "3a825874",
   "metadata": {},
   "outputs": [
    {
     "name": "stdout",
     "output_type": "stream",
     "text": [
      "[\"w = [[x for x in line.split() if len(x)>3] for line in text.split('\\\\n')]\", '', '', '', \"text = '''\", 'Call me Ishmael. Some years ago - never mind how long precisely - having', 'little or no money in my purse, and nothing particular to interest me', 'on shore, I thought I would sail about a little and see the watery part', 'of the world. It is a way I have of driving off the spleen, and regulating', \"the circulation. - Moby Dick'''\", '', 'w = [[x for x in line.split() if len(x) > 3] for line in text.splitlines()]', '', 'w']\n"
     ]
    }
   ],
   "source": [
    "print([line.strip() for line in open(\"hi.py\")])"
   ]
  },
  {
   "cell_type": "code",
   "execution_count": null,
   "id": "d0ec8848",
   "metadata": {},
   "outputs": [],
   "source": []
  }
 ],
 "metadata": {
  "kernelspec": {
   "display_name": "Python 3",
   "language": "python",
   "name": "python3"
  },
  "language_info": {
   "codemirror_mode": {
    "name": "ipython",
    "version": 3
   },
   "file_extension": ".py",
   "mimetype": "text/x-python",
   "name": "python",
   "nbconvert_exporter": "python",
   "pygments_lexer": "ipython3",
   "version": "3.6.9"
  },
  "varInspector": {
   "cols": {
    "lenName": 16,
    "lenType": 16,
    "lenVar": 40
   },
   "kernels_config": {
    "python": {
     "delete_cmd_postfix": "",
     "delete_cmd_prefix": "del ",
     "library": "var_list.py",
     "varRefreshCmd": "print(var_dic_list())"
    },
    "r": {
     "delete_cmd_postfix": ") ",
     "delete_cmd_prefix": "rm(",
     "library": "var_list.r",
     "varRefreshCmd": "cat(var_dic_list()) "
    }
   },
   "types_to_exclude": [
    "module",
    "function",
    "builtin_function_or_method",
    "instance",
    "_Feature"
   ],
   "window_display": false
  }
 },
 "nbformat": 4,
 "nbformat_minor": 5
}
