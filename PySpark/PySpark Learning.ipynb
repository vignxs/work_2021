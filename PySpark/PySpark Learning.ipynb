{
 "cells": [
  {
   "cell_type": "code",
   "execution_count": 24,
   "id": "336b0f93",
   "metadata": {},
   "outputs": [],
   "source": [
    "import pyspark\n",
    "from pyspark.context import SparkContext\n",
    "from pyspark.sql import SparkSession\n",
    "spark = SparkSession.builder.master('local').appName('training').getOrCreate()\n",
    "# spark.setLogLevel(logLevel='DEBUG')"
   ]
  },
  {
   "cell_type": "code",
   "execution_count": null,
   "id": "09daf914",
   "metadata": {},
   "outputs": [],
   "source": [
    "\"\"\" sample for aws  glue \"\"\"\n",
    "\n",
    "\n",
    "# import sys\n",
    "# from awsglue.transforms import Join\n",
    "# from awsglue.utils import getResolvedOptions\n",
    "# from pyspark.sql import SparkSession\n",
    "# from pyspark.context import SparkContext\n",
    "# from awsglue.context import GlueContext\n",
    "# from awsglue.job import Job\n",
    "\n",
    "# \n",
    "# glueContext = GlueContext(SparkContext().getOrCreate(conf=conf))\n",
    "\n",
    "# job= Job(glueContext)\n",
    "\n",
    "# print(\"Hello World\")\n",
    "\n",
    "# job.commit()"
   ]
  },
  {
   "cell_type": "code",
   "execution_count": null,
   "id": "b0ad19bf",
   "metadata": {},
   "outputs": [],
   "source": [
    "spark"
   ]
  },
  {
   "cell_type": "code",
   "execution_count": 12,
   "id": "4cd32a09",
   "metadata": {},
   "outputs": [
    {
     "data": {
      "text/plain": [
       "DataFrame[name: string, year: string, battle_number: string, attacker_king: string, defender_king: string, attacker_1: string, attacker_2: string, attacker_3: string, attacker_4: string, defender_1: string, defender_2: string, defender_3: string, defender_4: string, attacker_outcome: string, battle_type: string, major_death: string, major_capture: string, attacker_size: string, defender_size: string, attacker_commander: string, defender_commander: string, summer: string, location: string, region: string, note: string]"
      ]
     },
     "execution_count": 12,
     "metadata": {},
     "output_type": "execute_result"
    }
   ],
   "source": [
    "df_spark = spark.read.csv('battles.csv',header=True)\n",
    "\n",
    "df_spark"
   ]
  },
  {
   "cell_type": "code",
   "execution_count": 26,
   "id": "4eeb4bc0",
   "metadata": {},
   "outputs": [
    {
     "name": "stdout",
     "output_type": "stream",
     "text": [
      "root\n",
      " |-- name: string (nullable = true)\n",
      " |-- year: string (nullable = true)\n",
      " |-- battle_number: string (nullable = true)\n",
      " |-- attacker_king: string (nullable = true)\n",
      " |-- defender_king: string (nullable = true)\n",
      " |-- attacker_1: string (nullable = true)\n",
      " |-- attacker_2: string (nullable = true)\n",
      " |-- attacker_3: string (nullable = true)\n",
      " |-- attacker_4: string (nullable = true)\n",
      " |-- defender_1: string (nullable = true)\n",
      " |-- defender_2: string (nullable = true)\n",
      " |-- defender_3: string (nullable = true)\n",
      " |-- defender_4: string (nullable = true)\n",
      " |-- attacker_outcome: string (nullable = true)\n",
      " |-- battle_type: string (nullable = true)\n",
      " |-- major_death: string (nullable = true)\n",
      " |-- major_capture: string (nullable = true)\n",
      " |-- attacker_size: string (nullable = true)\n",
      " |-- defender_size: string (nullable = true)\n",
      " |-- attacker_commander: string (nullable = true)\n",
      " |-- defender_commander: string (nullable = true)\n",
      " |-- summer: string (nullable = true)\n",
      " |-- location: string (nullable = true)\n",
      " |-- region: string (nullable = true)\n",
      " |-- note: string (nullable = true)\n",
      "\n"
     ]
    }
   ],
   "source": [
    "df_spark.printSchema()"
   ]
  },
  {
   "cell_type": "code",
   "execution_count": 27,
   "id": "4f14266a",
   "metadata": {},
   "outputs": [
    {
     "data": {
      "text/plain": [
       "['name',\n",
       " 'year',\n",
       " 'battle_number',\n",
       " 'attacker_king',\n",
       " 'defender_king',\n",
       " 'attacker_1',\n",
       " 'attacker_2',\n",
       " 'attacker_3',\n",
       " 'attacker_4',\n",
       " 'defender_1',\n",
       " 'defender_2',\n",
       " 'defender_3',\n",
       " 'defender_4',\n",
       " 'attacker_outcome',\n",
       " 'battle_type',\n",
       " 'major_death',\n",
       " 'major_capture',\n",
       " 'attacker_size',\n",
       " 'defender_size',\n",
       " 'attacker_commander',\n",
       " 'defender_commander',\n",
       " 'summer',\n",
       " 'location',\n",
       " 'region',\n",
       " 'note']"
      ]
     },
     "execution_count": 27,
     "metadata": {},
     "output_type": "execute_result"
    }
   ],
   "source": [
    "df_spark.columns"
   ]
  },
  {
   "cell_type": "code",
   "execution_count": 28,
   "id": "9c689c5a",
   "metadata": {},
   "outputs": [
    {
     "data": {
      "text/plain": [
       "[('name', 'string'),\n",
       " ('year', 'string'),\n",
       " ('battle_number', 'string'),\n",
       " ('attacker_king', 'string'),\n",
       " ('defender_king', 'string'),\n",
       " ('attacker_1', 'string'),\n",
       " ('attacker_2', 'string'),\n",
       " ('attacker_3', 'string'),\n",
       " ('attacker_4', 'string'),\n",
       " ('defender_1', 'string'),\n",
       " ('defender_2', 'string'),\n",
       " ('defender_3', 'string'),\n",
       " ('defender_4', 'string'),\n",
       " ('attacker_outcome', 'string'),\n",
       " ('battle_type', 'string'),\n",
       " ('major_death', 'string'),\n",
       " ('major_capture', 'string'),\n",
       " ('attacker_size', 'string'),\n",
       " ('defender_size', 'string'),\n",
       " ('attacker_commander', 'string'),\n",
       " ('defender_commander', 'string'),\n",
       " ('summer', 'string'),\n",
       " ('location', 'string'),\n",
       " ('region', 'string'),\n",
       " ('note', 'string')]"
      ]
     },
     "execution_count": 28,
     "metadata": {},
     "output_type": "execute_result"
    }
   ],
   "source": [
    "df_spark.dtypes"
   ]
  },
  {
   "cell_type": "code",
   "execution_count": 29,
   "id": "00c90ecc",
   "metadata": {},
   "outputs": [],
   "source": [
    "# df1 = df_spark.drop('_c5','_c6','_c7','_c8','_c9','_c10','_c11','_c12','_c13','_c14')\n",
    "# df1 = df1.drop('_c15','_c16','_c17','_c18','_c19','_c20','_c21','_c22','_c23','_c24')\n",
    "\n",
    "df1 = df_spark.drop('attacker_1',\n",
    " 'attacker_2',\n",
    " 'attacker_3',\n",
    " 'attacker_4',\n",
    " 'defender_1',\n",
    " 'defender_2',\n",
    " 'defender_3',\n",
    " 'defender_4',\n",
    " 'attacker_outcome',\n",
    " 'battle_type',\n",
    " 'major_death',\n",
    " 'major_capture',\n",
    " 'attacker_size',\n",
    " 'defender_size',\n",
    " 'attacker_commander',\n",
    " 'defender_commander',\n",
    " 'summer',\n",
    " 'location',\n",
    " 'region',\n",
    " 'note')\n"
   ]
  },
  {
   "cell_type": "code",
   "execution_count": 30,
   "id": "d7efba96",
   "metadata": {},
   "outputs": [
    {
     "name": "stdout",
     "output_type": "stream",
     "text": [
      "+--------------------+----+-------------+--------------------+--------------------+\n",
      "|                name|year|battle_number|       attacker_king|       defender_king|\n",
      "+--------------------+----+-------------+--------------------+--------------------+\n",
      "|Battle of the Gol...| 298|            1|Joffrey/Tommen Ba...|          Robb Stark|\n",
      "|Battle at the Mum...| 298|            2|Joffrey/Tommen Ba...|          Robb Stark|\n",
      "|  Battle of Riverrun| 298|            3|Joffrey/Tommen Ba...|          Robb Stark|\n",
      "|Battle of the Gre...| 298|            4|          Robb Stark|Joffrey/Tommen Ba...|\n",
      "|Battle of the Whi...| 298|            5|          Robb Stark|Joffrey/Tommen Ba...|\n",
      "| Battle of the Camps| 298|            6|          Robb Stark|Joffrey/Tommen Ba...|\n",
      "|       Sack of Darry| 298|            7|Joffrey/Tommen Ba...|          Robb Stark|\n",
      "|Battle of Moat Ca...| 299|            8| Balon/Euron Greyjoy|          Robb Stark|\n",
      "|Battle of Deepwoo...| 299|            9| Balon/Euron Greyjoy|          Robb Stark|\n",
      "|Battle of the Sto...| 299|           10| Balon/Euron Greyjoy|          Robb Stark|\n",
      "|Battle of Torrhen...| 299|           11|          Robb Stark| Balon/Euron Greyjoy|\n",
      "|Battle of Winterfell| 299|           12| Balon/Euron Greyjoy|          Robb Stark|\n",
      "|Sack of Torrhen's...| 299|           13| Balon/Euron Greyjoy| Balon/Euron Greyjoy|\n",
      "|  Sack of Winterfell| 299|           14|Joffrey/Tommen Ba...|          Robb Stark|\n",
      "|   Battle of Oxcross| 299|           15|          Robb Stark|Joffrey/Tommen Ba...|\n",
      "|Siege of Storm's End| 299|           16|   Stannis Baratheon|     Renly Baratheon|\n",
      "| Battle of the Fords| 299|           17|Joffrey/Tommen Ba...|          Robb Stark|\n",
      "|   Sack of Harrenhal| 299|           18|          Robb Stark|Joffrey/Tommen Ba...|\n",
      "|  Battle of the Crag| 299|           19|          Robb Stark|Joffrey/Tommen Ba...|\n",
      "|Battle of the Bla...| 299|           20|   Stannis Baratheon|Joffrey/Tommen Ba...|\n",
      "+--------------------+----+-------------+--------------------+--------------------+\n",
      "only showing top 20 rows\n",
      "\n"
     ]
    }
   ],
   "source": [
    "df1.show()"
   ]
  },
  {
   "cell_type": "code",
   "execution_count": 37,
   "id": "cb102876",
   "metadata": {},
   "outputs": [
    {
     "name": "stdout",
     "output_type": "stream",
     "text": [
      "+--------------------+----+-------------+--------------------+--------------------+\n",
      "|                name|year|battle_number|       attacker_king|       defender_king|\n",
      "+--------------------+----+-------------+--------------------+--------------------+\n",
      "|Battle of the Gol...| 298|            1|Joffrey/Tommen Ba...|          Robb Stark|\n",
      "|Battle at the Mum...| 298|            2|Joffrey/Tommen Ba...|          Robb Stark|\n",
      "|  Battle of Riverrun| 298|            3|Joffrey/Tommen Ba...|          Robb Stark|\n",
      "|Battle of the Gre...| 298|            4|          Robb Stark|Joffrey/Tommen Ba...|\n",
      "|Battle of the Whi...| 298|            5|          Robb Stark|Joffrey/Tommen Ba...|\n",
      "+--------------------+----+-------------+--------------------+--------------------+\n",
      "only showing top 5 rows\n",
      "\n"
     ]
    }
   ],
   "source": [
    "df = df1.show(5)\n"
   ]
  },
  {
   "cell_type": "code",
   "execution_count": 43,
   "id": "6cd4bc24",
   "metadata": {},
   "outputs": [
    {
     "name": "stdout",
     "output_type": "stream",
     "text": [
      "+--------------------+----+-------------+--------------------+--------------------+\n",
      "|                name|year|battle_number|       attacker_king|       defender_king|\n",
      "+--------------------+----+-------------+--------------------+--------------------+\n",
      "|Battle of the Gol...| 298|            1|Joffrey/Tommen Ba...|          Robb Stark|\n",
      "|Battle at the Mum...| 298|            2|Joffrey/Tommen Ba...|          Robb Stark|\n",
      "|  Battle of Riverrun| 298|            3|Joffrey/Tommen Ba...|          Robb Stark|\n",
      "|Battle of the Gre...| 298|            4|          Robb Stark|Joffrey/Tommen Ba...|\n",
      "|Battle of the Whi...| 298|            5|          Robb Stark|Joffrey/Tommen Ba...|\n",
      "| Battle of the Camps| 298|            6|          Robb Stark|Joffrey/Tommen Ba...|\n",
      "|       Sack of Darry| 298|            7|Joffrey/Tommen Ba...|          Robb Stark|\n",
      "|Battle of Moat Ca...| 299|            8| Balon/Euron Greyjoy|          Robb Stark|\n",
      "|Battle of Deepwoo...| 299|            9| Balon/Euron Greyjoy|          Robb Stark|\n",
      "|Battle of the Sto...| 299|           10| Balon/Euron Greyjoy|          Robb Stark|\n",
      "+--------------------+----+-------------+--------------------+--------------------+\n",
      "only showing top 10 rows\n",
      "\n"
     ]
    }
   ],
   "source": [
    "df.show(10)"
   ]
  },
  {
   "cell_type": "code",
   "execution_count": 58,
   "id": "d2773a64",
   "metadata": {},
   "outputs": [
    {
     "name": "stdout",
     "output_type": "stream",
     "text": [
      "{\"name\":\"Battle of the Golden Tooth\",\"year\":\"298\",\"battle_number\":\"1\",\"attacker_king\":\"Joffrey/Tommen Baratheon\",\"defender_king\":\"Robb Stark\"}\n",
      "{\"name\":\"Battle at the Mummer's Ford\",\"year\":\"298\",\"battle_number\":\"2\",\"attacker_king\":\"Joffrey/Tommen Baratheon\",\"defender_king\":\"Robb Stark\"}\n",
      "{\"name\":\"Battle of Riverrun\",\"year\":\"298\",\"battle_number\":\"3\",\"attacker_king\":\"Joffrey/Tommen Baratheon\",\"defender_king\":\"Robb Stark\"}\n",
      "{\"name\":\"Battle of the Green Fork\",\"year\":\"298\",\"battle_number\":\"4\",\"attacker_king\":\"Robb Stark\",\"defender_king\":\"Joffrey/Tommen Baratheon\"}\n",
      "{\"name\":\"Battle of the Whispering Wood\",\"year\":\"298\",\"battle_number\":\"5\",\"attacker_king\":\"Robb Stark\",\"defender_king\":\"Joffrey/Tommen Baratheon\"}\n",
      "{\"name\":\"Battle of the Camps\",\"year\":\"298\",\"battle_number\":\"6\",\"attacker_king\":\"Robb Stark\",\"defender_king\":\"Joffrey/Tommen Baratheon\"}\n",
      "{\"name\":\"Sack of Darry\",\"year\":\"298\",\"battle_number\":\"7\",\"attacker_king\":\"Joffrey/Tommen Baratheon\",\"defender_king\":\"Robb Stark\"}\n",
      "{\"name\":\"Battle of Moat Cailin\",\"year\":\"299\",\"battle_number\":\"8\",\"attacker_king\":\"Balon/Euron Greyjoy\",\"defender_king\":\"Robb Stark\"}\n",
      "{\"name\":\"Battle of Deepwood Motte\",\"year\":\"299\",\"battle_number\":\"9\",\"attacker_king\":\"Balon/Euron Greyjoy\",\"defender_king\":\"Robb Stark\"}\n",
      "{\"name\":\"Battle of the Stony Shore\",\"year\":\"299\",\"battle_number\":\"10\",\"attacker_king\":\"Balon/Euron Greyjoy\",\"defender_king\":\"Robb Stark\"}\n",
      "{\"name\":\"Battle of Torrhen's Square\",\"year\":\"299\",\"battle_number\":\"11\",\"attacker_king\":\"Robb Stark\",\"defender_king\":\"Balon/Euron Greyjoy\"}\n",
      "{\"name\":\"Battle of Winterfell\",\"year\":\"299\",\"battle_number\":\"12\",\"attacker_king\":\"Balon/Euron Greyjoy\",\"defender_king\":\"Robb Stark\"}\n",
      "{\"name\":\"Sack of Torrhen's Square\",\"year\":\"299\",\"battle_number\":\"13\",\"attacker_king\":\"Balon/Euron Greyjoy\",\"defender_king\":\"Balon/Euron Greyjoy\"}\n",
      "{\"name\":\"Sack of Winterfell\",\"year\":\"299\",\"battle_number\":\"14\",\"attacker_king\":\"Joffrey/Tommen Baratheon\",\"defender_king\":\"Robb Stark\"}\n",
      "{\"name\":\"Battle of Oxcross\",\"year\":\"299\",\"battle_number\":\"15\",\"attacker_king\":\"Robb Stark\",\"defender_king\":\"Joffrey/Tommen Baratheon\"}\n",
      "{\"name\":\"Siege of Storm's End\",\"year\":\"299\",\"battle_number\":\"16\",\"attacker_king\":\"Stannis Baratheon\",\"defender_king\":\"Renly Baratheon\"}\n",
      "{\"name\":\"Battle of the Fords\",\"year\":\"299\",\"battle_number\":\"17\",\"attacker_king\":\"Joffrey/Tommen Baratheon\",\"defender_king\":\"Robb Stark\"}\n",
      "{\"name\":\"Sack of Harrenhal\",\"year\":\"299\",\"battle_number\":\"18\",\"attacker_king\":\"Robb Stark\",\"defender_king\":\"Joffrey/Tommen Baratheon\"}\n",
      "{\"name\":\"Battle of the Crag\",\"year\":\"299\",\"battle_number\":\"19\",\"attacker_king\":\"Robb Stark\",\"defender_king\":\"Joffrey/Tommen Baratheon\"}\n",
      "{\"name\":\"Battle of the Blackwater\",\"year\":\"299\",\"battle_number\":\"20\",\"attacker_king\":\"Stannis Baratheon\",\"defender_king\":\"Joffrey/Tommen Baratheon\"}\n",
      "{\"name\":\"Siege of Darry\",\"year\":\"299\",\"battle_number\":\"21\",\"attacker_king\":\"Robb Stark\",\"defender_king\":\"Joffrey/Tommen Baratheon\"}\n",
      "{\"name\":\"Battle of Duskendale\",\"year\":\"299\",\"battle_number\":\"22\",\"attacker_king\":\"Robb Stark\",\"defender_king\":\"Joffrey/Tommen Baratheon\"}\n",
      "{\"name\":\"Battle of the Burning Septry\",\"year\":\"299\",\"battle_number\":\"23\"}\n",
      "{\"name\":\"Battle of the Ruby Ford\",\"year\":\"299\",\"battle_number\":\"24\",\"attacker_king\":\"Joffrey/Tommen Baratheon\",\"defender_king\":\"Robb Stark\"}\n",
      "{\"name\":\"Retaking of Harrenhal\",\"year\":\"299\",\"battle_number\":\"25\",\"attacker_king\":\"Joffrey/Tommen Baratheon\"}\n",
      "{\"name\":\"The Red Wedding\",\"year\":\"299\",\"battle_number\":\"26\",\"attacker_king\":\"Joffrey/Tommen Baratheon\",\"defender_king\":\"Robb Stark\"}\n",
      "{\"name\":\"Siege of Seagard\",\"year\":\"299\",\"battle_number\":\"27\",\"attacker_king\":\"Robb Stark\",\"defender_king\":\"Joffrey/Tommen Baratheon\"}\n",
      "{\"name\":\"Battle of Castle Black\",\"year\":\"300\",\"battle_number\":\"28\",\"attacker_king\":\"Stannis Baratheon\",\"defender_king\":\"Mance Rayder\"}\n",
      "{\"name\":\"Fall of Moat Cailin\",\"year\":\"300\",\"battle_number\":\"29\",\"attacker_king\":\"Joffrey/Tommen Baratheon\",\"defender_king\":\"Balon/Euron Greyjoy\"}\n",
      "{\"name\":\"Sack of Saltpans\",\"year\":\"300\",\"battle_number\":\"30\"}\n",
      "{\"name\":\"Retaking of Deepwood Motte\",\"year\":\"300\",\"battle_number\":\"31\",\"attacker_king\":\"Stannis Baratheon\",\"defender_king\":\"Balon/Euron Greyjoy\"}\n",
      "{\"name\":\"Battle of the Shield Islands\",\"year\":\"300\",\"battle_number\":\"32\",\"attacker_king\":\"Balon/Euron Greyjoy\",\"defender_king\":\"Joffrey/Tommen Baratheon\"}\n",
      "{\"name\":\"Invasion of Ryamsport, Vinetown, and Starfish Harbor\",\"year\":\"300\",\"battle_number\":\"33\",\"attacker_king\":\"Balon/Euron Greyjoy\",\"defender_king\":\"Joffrey/Tommen Baratheon\"}\n",
      "{\"name\":\"Second Seige of Storm's End\",\"year\":\"300\",\"battle_number\":\"34\",\"attacker_king\":\"Joffrey/Tommen Baratheon\",\"defender_king\":\"Stannis Baratheon\"}\n",
      "{\"name\":\"Siege of Dragonstone\",\"year\":\"300\",\"battle_number\":\"35\",\"attacker_king\":\"Joffrey/Tommen Baratheon\",\"defender_king\":\"Stannis Baratheon\"}\n",
      "{\"name\":\"Siege of Riverrun\",\"year\":\"300\",\"battle_number\":\"36\",\"attacker_king\":\"Joffrey/Tommen Baratheon\",\"defender_king\":\"Robb Stark\"}\n",
      "{\"name\":\"Siege of Raventree\",\"year\":\"300\",\"battle_number\":\"37\",\"attacker_king\":\"Joffrey/Tommen Baratheon\",\"defender_king\":\"Robb Stark\"}\n",
      "{\"name\":\"Siege of Winterfell\",\"year\":\"300\",\"battle_number\":\"38\",\"attacker_king\":\"Stannis Baratheon\",\"defender_king\":\"Joffrey/Tommen Baratheon\"}\n"
     ]
    }
   ],
   "source": [
    "from pyspark.sql.functions import  to_json\n",
    "\n",
    "type(df1)\n",
    "\n",
    "df2 = df1.toJSON().collect()\n",
    "\n",
    "for r in df2:\n",
    "    print(r)\n",
    "    \n",
    "#     line = json.loads(r)\n",
    "#     print(len(line['name']))\n",
    "# df2.first()"
   ]
  },
  {
   "cell_type": "code",
   "execution_count": null,
   "id": "93a48e7b",
   "metadata": {},
   "outputs": [
    {
     "name": "stdout",
     "output_type": "stream",
     "text": [
      "Collecting pymupdf\n",
      "  Downloading PyMuPDF-1.19.6.tar.gz (2.3 MB)\n",
      "     |████████████████████████████████| 2.3 MB 203 kB/s            \n",
      "\u001b[?25h  Preparing metadata (setup.py) ... \u001b[?25ldone\n",
      "\u001b[?25hBuilding wheels for collected packages: pymupdf\n",
      "  Building wheel for pymupdf (setup.py) ... \u001b[?25lerror\n",
      "\u001b[31m  ERROR: Command errored out with exit status 1:\n",
      "   command: /mnt/c/Users/ELCOT/Documents/PythonWork/PySpark/pysparkvenv/bin/python -u -c 'import io, os, sys, setuptools, tokenize; sys.argv[0] = '\"'\"'/tmp/pip-install-uhjenxj1/pymupdf_eea4678f977046609b3897b22241c2e9/setup.py'\"'\"'; __file__='\"'\"'/tmp/pip-install-uhjenxj1/pymupdf_eea4678f977046609b3897b22241c2e9/setup.py'\"'\"';f = getattr(tokenize, '\"'\"'open'\"'\"', open)(__file__) if os.path.exists(__file__) else io.StringIO('\"'\"'from setuptools import setup; setup()'\"'\"');code = f.read().replace('\"'\"'\\r\\n'\"'\"', '\"'\"'\\n'\"'\"');f.close();exec(compile(code, __file__, '\"'\"'exec'\"'\"'))' bdist_wheel -d /tmp/pip-wheel-alraiwum\n",
      "       cwd: /tmp/pip-install-uhjenxj1/pymupdf_eea4678f977046609b3897b22241c2e9/\n",
      "  Complete output (20 lines):\n",
      "  running bdist_wheel\n",
      "  running build\n",
      "  running build_py\n",
      "  creating build\n",
      "  creating build/lib.linux-x86_64-3.6\n",
      "  creating build/lib.linux-x86_64-3.6/fitz\n",
      "  copying fitz/__init__.py -> build/lib.linux-x86_64-3.6/fitz\n",
      "  copying fitz/fitz.py -> build/lib.linux-x86_64-3.6/fitz\n",
      "  copying fitz/utils.py -> build/lib.linux-x86_64-3.6/fitz\n",
      "  copying fitz/__main__.py -> build/lib.linux-x86_64-3.6/fitz\n",
      "  running build_ext\n",
      "  building 'fitz._fitz' extension\n",
      "  creating build/temp.linux-x86_64-3.6\n",
      "  creating build/temp.linux-x86_64-3.6/fitz\n",
      "  x86_64-linux-gnu-gcc -pthread -DNDEBUG -g -fwrapv -O2 -Wall -g -fstack-protector-strong -Wformat -Werror=format-security -Wdate-time -D_FORTIFY_SOURCE=2 -fPIC -I/usr/include/mupdf -I/usr/local/include/mupdf -Imupdf/thirdparty/freetype/include -I/usr/include/freetype2 -I/mnt/c/Users/ELCOT/Documents/PythonWork/PySpark/pysparkvenv/include -I/usr/include/python3.6m -c fitz/fitz_wrap.c -o build/temp.linux-x86_64-3.6/fitz/fitz_wrap.o\n",
      "  fitz/fitz_wrap.c:2755:10: fatal error: fitz.h: No such file or directory\n",
      "   #include <fitz.h>\n",
      "            ^~~~~~~~\n",
      "  compilation terminated.\n",
      "  error: command 'x86_64-linux-gnu-gcc' failed with exit status 1\n",
      "  ----------------------------------------\u001b[0m\n",
      "\u001b[31m  ERROR: Failed building wheel for pymupdf\u001b[0m\n",
      "\u001b[?25h  Running setup.py clean for pymupdf\n"
     ]
    }
   ],
   "source": [
    "import re\n",
    "import requests\n",
    "import io\n",
    "!pip install pymupdf"
   ]
  },
  {
   "cell_type": "code",
   "execution_count": 4,
   "id": "15491a1d",
   "metadata": {},
   "outputs": [
    {
     "name": "stdout",
     "output_type": "stream",
     "text": [
      "Requirement already satisfied: requests in ./pysparkvenv/lib/python3.6/site-packages (2.27.1)\n",
      "Requirement already satisfied: urllib3<1.27,>=1.21.1 in ./pysparkvenv/lib/python3.6/site-packages (from requests) (1.26.9)\n",
      "Requirement already satisfied: charset-normalizer~=2.0.0 in ./pysparkvenv/lib/python3.6/site-packages (from requests) (2.0.12)\n",
      "Requirement already satisfied: certifi>=2017.4.17 in ./pysparkvenv/lib/python3.6/site-packages (from requests) (2021.10.8)\n",
      "Requirement already satisfied: idna<4,>=2.5 in ./pysparkvenv/lib/python3.6/site-packages (from requests) (3.3)\n",
      "\u001b[31mERROR: Could not find a version that satisfies the requirement io (from versions: none)\u001b[0m\n",
      "\u001b[31mERROR: No matching distribution found for io\u001b[0m\n"
     ]
    }
   ],
   "source": [
    "data = requests.get('https://d18rn0p25nwr6d.cloudfront.net/CIK-0001018724/4d39f579-19d8-4119-b087-ee618abf82d6.pdf')\n",
    "\n",
    "content = data.content\n",
    "\n",
    "cont = io.BytesIO(content)\n",
    "\n",
    "# with open(cont) a:\n",
    "    "
   ]
  }
 ],
 "metadata": {
  "kernelspec": {
   "display_name": "Python 3",
   "language": "python",
   "name": "python3"
  },
  "language_info": {
   "codemirror_mode": {
    "name": "ipython",
    "version": 3
   },
   "file_extension": ".py",
   "mimetype": "text/x-python",
   "name": "python",
   "nbconvert_exporter": "python",
   "pygments_lexer": "ipython3",
   "version": "3.6.9"
  },
  "varInspector": {
   "cols": {
    "lenName": 16,
    "lenType": 16,
    "lenVar": 40
   },
   "kernels_config": {
    "python": {
     "delete_cmd_postfix": "",
     "delete_cmd_prefix": "del ",
     "library": "var_list.py",
     "varRefreshCmd": "print(var_dic_list())"
    },
    "r": {
     "delete_cmd_postfix": ") ",
     "delete_cmd_prefix": "rm(",
     "library": "var_list.r",
     "varRefreshCmd": "cat(var_dic_list()) "
    }
   },
   "types_to_exclude": [
    "module",
    "function",
    "builtin_function_or_method",
    "instance",
    "_Feature"
   ],
   "window_display": false
  }
 },
 "nbformat": 4,
 "nbformat_minor": 5
}
